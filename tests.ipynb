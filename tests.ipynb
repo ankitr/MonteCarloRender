{
 "cells": [
  {
   "cell_type": "code",
   "execution_count": 1,
   "metadata": {},
   "outputs": [],
   "source": [
    "%load_ext autoreload\n",
    "import numpy as np\n",
    "import matplotlib.pyplot as plt\n",
    "import tests\n",
    "import MC\n",
    "import time\n",
    "import pickle\n",
    "import datetime\n",
    "import Sensor\n",
    "%autoreload 2"
   ]
  },
  {
   "cell_type": "code",
   "execution_count": 9,
   "metadata": {},
   "outputs": [],
   "source": [
    "def runTest():\n",
    "    t1 = time.perf_counter()\n",
    "    ret = MC.lunchPacketwithBatch(batchSize = 1e6,\n",
    "                               nPhotonsRequested = 1e6,\n",
    "                                nPhotonsToRun = 1e6,\n",
    "                                muS = 1.0, g = 0.85,\n",
    "                                source = {'r': np.array([0.0, 0.0, 30.0]),\n",
    "                                          'mu': np.array([0.0, 0.0, -1.0]),\n",
    "                                          'method': 'pencil', 'time_profile': 'delta'},\n",
    "                                detector = {'radius': 100.0},\n",
    "                                control_param = {'max_N': 1e5,\n",
    "                                                 'max_distance_from_det': 110},\n",
    "                                normalize_d = None,\n",
    "                                ret_cols = [0,1,2,3,4,5,6,7]\n",
    "                                )\n",
    "    print(ret[1], ret[2], time.perf_counter()-t1)\n",
    "    ds = {'data': ret[0],\n",
    "          'num_simulated': ret[1],\n",
    "          'num_detected': ret[2]}\n",
    "    with open('testdata.pickle', 'wb') as handle:\n",
    "        pickle.dump(ds, handle)  \n",
    "        \n",
    "def runTargetTest():\n",
    "    t1 = time.perf_counter()\n",
    "    target_mask = np.zeros(shape=(60,60))\n",
    "    target_mask[15:45,28:32]=1\n",
    "    #target_mask[15:45,15:19]=1\n",
    "    target_mask[11:15,15:45]=1\n",
    "    target_gridsize = np.array([1,1])\n",
    "    target_distance_from_camera = 10\n",
    "    \n",
    "    plt.figure()\n",
    "    plt.imshow(target_mask)\n",
    "    plt.title('Simulating Target')\n",
    "    plt.show()\n",
    "    \n",
    "    ret = MC.lunchPacketwithBatch(batchSize = 1e6,\n",
    "                               nPhotonsRequested = 1e7,\n",
    "                                nPhotonsToRun = 1e7,\n",
    "                                muS = 3.16, g = 0.85,\n",
    "                                source = {'r': np.array([0.0, 0.0, 30.0]),\n",
    "                                          'mu': np.array([0.0, 0.0, -1.0]),\n",
    "                                          'method': 'pencil', 'time_profile': 'delta'},\n",
    "                                detector = {'radius': 100.0},\n",
    "                                control_param = {'max_N': 1e5,\n",
    "                                                 'max_distance_from_det': 110},\n",
    "                                normalize_d = None,\n",
    "                                ret_cols = [0,1,2,3,4,5,6,7],\n",
    "                                target = {'type':1,\n",
    "                                'mask':target_mask,\n",
    "                                'grid_size':target_gridsize,\n",
    "                                'z_target':target_distance_from_camera}\n",
    "                                )\n",
    "    print(ret[1], ret[2], time.perf_counter()-t1)\n",
    "    ds = {'data': ret[0],\n",
    "          'num_simulated': ret[1],\n",
    "          'num_detected': ret[2]}\n",
    "    with open('testdata.pickle', 'wb') as handle:\n",
    "        pickle.dump(ds, handle)  \n",
    "        \n",
    "def loadTest():\n",
    "    with open('testdata.pickle', 'rb') as handle:\n",
    "        ds = pickle.load(handle)\n",
    "\n",
    "    data = ds['data']\n",
    "    num_simulated = ds['num_simulated']\n",
    "    num_detected = ds['num_detected']\n",
    "\n",
    "    return data, num_simulated, num_detected\n",
    "\n",
    "def plotTest(data):\n",
    "    plt.figure(figsize=(20,7))\n",
    "    #plt.figure\n",
    "    for i in range(8):\n",
    "        plt.subplot(2, 4, i+1)\n",
    "        plt.hist(data[:,i], bins=100)\n",
    "    plt.show()\n",
    "    \n",
    "def plotTargetTest(data):\n",
    "    data = data[:,[2,3,0]]\n",
    "    measurement = Sensor.photonsTo3DMeasurement(data,camera = {'center': [0,0],'dim':[64,64],\n",
    "                                                                'pixel_size':1, 'time_res':25,\n",
    "                                                                'time_bin':100})\n",
    "    measurement_xy = np.sum(measurement,axis=2)\n",
    "    measurement_xt = np.sum(measurement,axis=0)\n",
    "    ft = np.sum(measurement_xt,axis=0)\n",
    "    plt.figure(figsize=(10,3))\n",
    "    plt.subplot(131)\n",
    "    plt.imshow(measurement_xy)\n",
    "    plt.subplot(132)\n",
    "    plt.imshow(measurement_xt)\n",
    "    plt.subplot(133)\n",
    "    plt.plot(ft)\n",
    "    plt.show()\n",
    "        \n",
    "def testRun():\n",
    "    print(datetime.datetime.now())\n",
    "    runTest()\n",
    "    data, num_simulated, num_detected = loadTest()\n",
    "    plotTest(data)\n",
    "\n",
    "def testTargetRun():\n",
    "    runTargetTest()\n",
    "    data, num_simulated, num_detected = loadTest()\n",
    "    plotTargetTest(data)"
   ]
  },
  {
   "cell_type": "code",
   "execution_count": null,
   "metadata": {},
   "outputs": [
    {
     "data": {
      "image/png": "[encoded data removed]",
      "text/plain": [
       "<Figure size 432x288 with 1 Axes>"
      ]
     },
     "metadata": {},
     "output_type": "display_data"
    },
    {
     "name": "stdout",
     "output_type": "stream",
     "text": [
      "8e+06\r"
     ]
    }
   ],
   "source": [
    "#testRun()\n",
    "testTargetRun()"
   ]
  },
  {
   "cell_type": "code",
   "execution_count": null,
   "metadata": {
    "collapsed": true
   },
   "outputs": [],
   "source": []
  }
 ],
 "metadata": {
  "kernelspec": {
   "display_name": "Python 3",
   "language": "python",
   "name": "python3"
  },
  "language_info": {
   "codemirror_mode": {
    "name": "ipython",
    "version": 3
   },
   "file_extension": ".py",
   "mimetype": "text/x-python",
   "name": "python",
   "nbconvert_exporter": "python",
   "pygments_lexer": "ipython3",
   "version": "3.6.7"
  }
 },
 "nbformat": 4,
 "nbformat_minor": 2
}
